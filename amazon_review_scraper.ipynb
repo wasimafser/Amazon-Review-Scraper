{
  "nbformat": 4,
  "nbformat_minor": 0,
  "metadata": {
    "colab": {
      "name": "amazon_review_scrap.ipynb",
      "provenance": [],
      "collapsed_sections": [],
      "include_colab_link": true
    },
    "kernelspec": {
      "name": "python3",
      "display_name": "Python 3"
    },
    "accelerator": "GPU"
  },
  "cells": [
    {
      "cell_type": "markdown",
      "metadata": {
        "id": "view-in-github",
        "colab_type": "text"
      },
      "source": [
        "<a href=\"https://colab.research.google.com/github/wasimafser/Amazon-Review-Scrapper/blob/main/amazon_review_scraper.ipynb\" target=\"_parent\"><img src=\"https://colab.research.google.com/assets/colab-badge.svg\" alt=\"Open In Colab\"/></a>"
      ]
    },
    {
      "cell_type": "code",
      "metadata": {
        "id": "1V528ofCeixo"
      },
      "source": [
        "import requests\n",
        "from bs4 import BeautifulSoup\n",
        "import csv\n",
        " \n",
        "GIVEN_URL = \"https://www.amazon.co.uk/All-New-Fire-Tablet-Alexa-Display/dp/B07952CV7L?pd_rd_w=p2svY&pf_rd_p=6d00cb1b-e522-41f6-98b2-97052078725d&pf_rd_r=6c41a23c-1c43-410a-8646-a14bdcfa1561&pd_rd_r=6c41a23c-1c43-410a-8646-a14bdcfa1561&pd_rd_wg=w9uHe&ref_=pd_gw_unk\"\n",
        "HEADERS = ({'User-Agent': 'Mozilla/5.0 (X11; Linux x86_64) AppleWebKit/537.36 (KHTML, like Gecko) Chrome/44.0.2403.157 Safari/537.36', 'Accept-Language': 'en-US, en;q=0.5'})\n",
        "REVIEWS_URL = None\n",
        " \n",
        "PAGE = 1\n",
        " \n",
        "def get_content(url=None):\n",
        "  global REVIEWS_URL\n",
        "  if not url:\n",
        "    url = GIVEN_URL\n",
        "  response = requests.get(url, headers=HEADERS)\n",
        "  content = BeautifulSoup(response.content, \"lxml\")\n",
        "  if url == GIVEN_URL:\n",
        "    REVIEWS_URL = f\"https://www.amazon.co.uk{content.find('a', {'data-hook': 'see-all-reviews-link-foot'}).get('href')}\"\n",
        "    get_content(url=REVIEWS_URL+\"&pageNumber=1\")\n",
        "  return content\n",
        " \n",
        "with open(\"output.csv\", \"w\") as outfile:\n",
        "  writer = csv.DictWriter(outfile, fieldnames=[\"Review Title\",\"Review Description\",\"No Of Stars\",\"Review Given By\",\"Date of Review\"], quoting=csv.QUOTE_ALL)\n",
        "  writer.writeheader()\n",
        "  content = get_content()\n",
        "  reviews = content.findAll(\"div\", {'data-hook': 'review'})\n",
        "  while len(reviews) > 0:\n",
        "    for review in reviews:\n",
        "      template = {}\n",
        "      template['Review Title'] = review.find('a', {'data-hook': 'review-title'}).span.text\n",
        "      template['Review Description'] = review.find('span', {'data-hook': 'review-body'}).span.text\n",
        "      template['No Of Stars'] = review.find('i', {'data-hook': 'review-star-rating'}).span.text.split(\" \")[0]\n",
        "      template['Review Given By'] = review.find('span', {'class': 'a-profile-name'}).text\n",
        "      template['Date of Review'] = review.find('span', {'data-hook': 'review-date'}).text.split(\"on\")[-1]\n",
        "      writer.writerow(template)\n",
        "    PAGE += 1\n",
        "    content = get_content(url=REVIEWS_URL+f\"&pageNumber={PAGE}\")\n",
        "    reviews = content.findAll(\"div\", {'data-hook': 'review'})"
      ],
      "execution_count": null,
      "outputs": []
    }
  ]
}